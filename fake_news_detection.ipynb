{
  "nbformat": 4,
  "nbformat_minor": 0,
  "metadata": {
    "colab": {
      "provenance": []
    },
    "kernelspec": {
      "name": "python3",
      "display_name": "Python 3"
    },
    "language_info": {
      "name": "python"
    }
  },
  "cells": [
    {
      "cell_type": "code",
      "execution_count": null,
      "metadata": {
        "colab": {
          "base_uri": "https://localhost:8080/"
        },
        "id": "EbAeNDmvchou",
        "outputId": "57bc9cd0-4ab4-4551-a71f-254ba7f71acd"
      },
      "outputs": [
        {
          "output_type": "stream",
          "name": "stdout",
          "text": [
            "Index(['Unnamed: 0', 'title', 'text', 'label'], dtype='object')\n"
          ]
        }
      ],
      "source": [
        "import pandas as pd\n",
        "\n",
        "df = pd.read_csv('news.csv')\n",
        "#print(df.columns) # four columns\n",
        "\n",
        "labels = df.label\n",
        "#print(labels.head)\n",
        "#print(df.shape)\n",
        "#print(len(df[df.label == 'FAKE']))\n",
        "#print(len(df[df.label == 'REAL']))"
      ]
    },
    {
      "cell_type": "code",
      "source": [
        "import numpy as np\n",
        "import pandas as pd\n",
        "import itertools\n",
        "from sklearn.model_selection import train_test_split\n",
        "from sklearn.feature_extraction.text import TfidfVectorizer\n",
        "from sklearn.linear_model import PassiveAggressiveClassifier\n",
        "from sklearn.metrics import accuracy_score, confusion_matrix\n",
        "from sklearn.metrics import classification_report"
      ],
      "metadata": {
        "id": "QARS_6bllxcv"
      },
      "execution_count": null,
      "outputs": []
    },
    {
      "cell_type": "code",
      "source": [
        "#DataFlair - Split the dataset\n",
        "X_train , X_test, y_train, y_test = train_test_split(df['text'], labels, test_size = 0.2, random_state=7, stratify=labels)"
      ],
      "metadata": {
        "id": "4qJvFNwVl1Ew"
      },
      "execution_count": null,
      "outputs": []
    },
    {
      "cell_type": "code",
      "source": [
        "#init TfidfVectorizer\n",
        "tfidf_vectorizer = TfidfVectorizer(stop_words = \"english\", max_df = 0.7)\n",
        "\n",
        "#fit and transform\n",
        "tfidf_train = tfidf_vectorizer.fit_transform(X_train)\n",
        "tfidf_test = tfidf_vectorizer.transform(X_test)"
      ],
      "metadata": {
        "id": "NW_VkcIBnAEP"
      },
      "execution_count": null,
      "outputs": []
    },
    {
      "cell_type": "code",
      "source": [
        "pac = PassiveAggressiveClassifier(max_iter = 50)\n",
        "pac.fit(tfidf_train, y_train)\n",
        "\n",
        "y_pred = pac.predict(tfidf_test)\n",
        "score = accuracy_score(y_test, y_pred)\n",
        "print(f'Accuracy: {round(score*100,2)}%')"
      ],
      "metadata": {
        "colab": {
          "base_uri": "https://localhost:8080/"
        },
        "id": "UMDrmzJQoKL-",
        "outputId": "40ae25d4-d192-4f40-e894-28a051410f2c"
      },
      "execution_count": null,
      "outputs": [
        {
          "output_type": "stream",
          "name": "stdout",
          "text": [
            "Accuracy: 94.63%\n"
          ]
        }
      ]
    },
    {
      "cell_type": "code",
      "source": [
        "print(confusion_matrix(y_pred, y_test, labels = ['FAKE','REAL']))\n",
        "print(classification_report(y_pred, y_test, labels = ['FAKE','REAL']))"
      ],
      "metadata": {
        "colab": {
          "base_uri": "https://localhost:8080/"
        },
        "id": "mJMQTpedqCpp",
        "outputId": "980f6ee2-c5c7-4d70-c9cf-7217889824d9"
      },
      "execution_count": null,
      "outputs": [
        {
          "output_type": "stream",
          "name": "stdout",
          "text": [
            "[[606  41]\n",
            " [ 27 593]]\n",
            "              precision    recall  f1-score   support\n",
            "\n",
            "        FAKE       0.96      0.94      0.95       647\n",
            "        REAL       0.94      0.96      0.95       620\n",
            "\n",
            "    accuracy                           0.95      1267\n",
            "   macro avg       0.95      0.95      0.95      1267\n",
            "weighted avg       0.95      0.95      0.95      1267\n",
            "\n"
          ]
        }
      ]
    },
    {
      "cell_type": "code",
      "source": [
        "!git remote add origin https://github.com/ashrafishama/colab-projects.git"
      ],
      "metadata": {
        "colab": {
          "base_uri": "https://localhost:8080/"
        },
        "id": "K-1gEY1DrKln",
        "outputId": "21e8e3f4-f4b9-457b-dc50-a14955994405"
      },
      "execution_count": null,
      "outputs": [
        {
          "output_type": "stream",
          "name": "stdout",
          "text": [
            "fatal: not a git repository (or any of the parent directories): .git\n"
          ]
        }
      ]
    },
    {
      "cell_type": "code",
      "source": [],
      "metadata": {
        "colab": {
          "base_uri": "https://localhost:8080/"
        },
        "id": "goJKVyp9rRFd",
        "outputId": "ce7a3cf4-eb40-442a-a9eb-3ca1779e20aa"
      },
      "execution_count": null,
      "outputs": [
        {
          "output_type": "stream",
          "name": "stdout",
          "text": [
            "fatal: not a git repository (or any of the parent directories): .git\n"
          ]
        }
      ]
    }
  ]
}